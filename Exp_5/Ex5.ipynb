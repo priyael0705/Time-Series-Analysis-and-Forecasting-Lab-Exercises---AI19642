{
  "nbformat": 4,
  "nbformat_minor": 0,
  "metadata": {
    "colab": {
      "provenance": []
    },
    "kernelspec": {
      "name": "python3",
      "display_name": "Python 3"
    },
    "language_info": {
      "name": "python"
    }
  },
  "cells": [
    {
      "cell_type": "code",
      "source": [
        "import pandas as pd\n",
        "from statsmodels.tsa.stattools import adfuller\n",
        "\n",
        "# Load dataset\n",
        "df = pd.read_csv(\"/content/trends.csv\")  # Replace with actual file path\n",
        "\n",
        "# Ensure 'year' is in datetime format and set as index\n",
        "df[\"year\"] = pd.to_datetime(df[\"year\"], format=\"%Y\")\n",
        "df.set_index(\"year\", inplace=True)\n",
        "\n",
        "# Select the time series column (e.g., 'rank')\n",
        "ts = df[\"rank\"].dropna()\n",
        "\n",
        "# ADF Test\n",
        "adf_result = adfuller(ts)\n",
        "print(f\"📊 ADF Test p-value: {adf_result[1]:.4f}\")\n",
        "\n",
        "# Interpretation\n",
        "if adf_result[1] < 0.05:\n",
        "    print(\"✅ The series is stationary.\")\n",
        "else:\n",
        "    print(\"❌ The series is NOT stationary.\")\n"
      ],
      "metadata": {
        "colab": {
          "base_uri": "https://localhost:8080/"
        },
        "id": "iB7EwtV8U2I_",
        "outputId": "6c61ece6-af19-437f-bbbc-932578d9b487"
      },
      "execution_count": 6,
      "outputs": [
        {
          "output_type": "stream",
          "name": "stdout",
          "text": [
            "📊 ADF Test p-value: 0.0000\n",
            "✅ The series is stationary.\n"
          ]
        }
      ]
    }
  ]
}